{
 "cells": [
  {
   "cell_type": "markdown",
   "metadata": {},
   "source": [
    "# Data Analysis on Import and Export Data\n",
    "### In this analysis we will be looking at the import and export data of certain products from 2010 to 2021."
   ]
  },
  {
   "cell_type": "markdown",
   "metadata": {},
   "source": [
    "### Import required libraries"
   ]
  },
  {
   "cell_type": "code",
   "execution_count": 5,
   "metadata": {},
   "outputs": [],
   "source": [
    "import pandas as pd\n",
    "import matplotlib.pyplot as plt\n",
    "import seaborn as sns"
   ]
  },
  {
   "cell_type": "markdown",
   "metadata": {},
   "source": [
    "## Load the data"
   ]
  },
  {
   "cell_type": "code",
   "execution_count": 6,
   "metadata": {},
   "outputs": [],
   "source": [
    "# Load the dataset from the CSV file\n",
    "df_trade_data = pd.read_csv(\"trade_data.csv\")"
   ]
  },
  {
   "cell_type": "markdown",
   "metadata": {},
   "source": [
    "## Data Overview"
   ]
  },
  {
   "cell_type": "code",
   "execution_count": 7,
   "metadata": {},
   "outputs": [
    {
     "name": "stdout",
     "output_type": "stream",
     "text": [
      "   HSCode    type                                          Commodity  value  \\\n",
      "0       2  Export                        MEAT AND EDIBLE MEAT OFFAL.   0.18   \n",
      "1       3  Export  FISH AND CRUSTACEANS, MOLLUSCS AND OTHER AQUAT...   0.00   \n",
      "2       4  Export  DAIRY PRODUCE; BIRDS' EGGS; NATURAL HONEY; EDI...  12.48   \n",
      "3       6  Export  LIVE TREES AND OTHER PLANTS; BULBS; ROOTS AND ...   0.00   \n",
      "4       7  Export    EDIBLE VEGETABLES AND CERTAIN ROOTS AND TUBERS.   1.89   \n",
      "\n",
      "           country  year  trade_value  quantity  unit_price  shipping_cost  \\\n",
      "0  AFGHANISTAN TIS  2018     38079.47         3    12693.16        9054.39   \n",
      "1  AFGHANISTAN TIS  2018     95120.72       461      206.34         154.89   \n",
      "2  AFGHANISTAN TIS  2018     73467.40         5    14693.48        5948.07   \n",
      "3  AFGHANISTAN TIS  2018     60267.19        14     4304.80        7335.05   \n",
      "4  AFGHANISTAN TIS  2018     16445.85       482       34.12        9840.70   \n",
      "\n",
      "       tax     duty  \n",
      "0  4683.36  1362.03  \n",
      "1  5287.75  8875.51  \n",
      "2  4867.17  6827.14  \n",
      "3  8964.37  4369.10  \n",
      "4  1248.63  1616.67  \n"
     ]
    }
   ],
   "source": [
    "print(df_trade_data.head())"
   ]
  },
  {
   "cell_type": "code",
   "execution_count": null,
   "metadata": {},
   "outputs": [],
   "source": []
  }
 ],
 "metadata": {
  "kernelspec": {
   "display_name": "Python 3",
   "language": "python",
   "name": "python3"
  },
  "language_info": {
   "codemirror_mode": {
    "name": "ipython",
    "version": 3
   },
   "file_extension": ".py",
   "mimetype": "text/x-python",
   "name": "python",
   "nbconvert_exporter": "python",
   "pygments_lexer": "ipython3",
   "version": "3.12.1"
  }
 },
 "nbformat": 4,
 "nbformat_minor": 2
}
